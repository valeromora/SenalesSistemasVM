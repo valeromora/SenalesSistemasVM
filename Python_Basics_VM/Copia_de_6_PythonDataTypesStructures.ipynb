{
  "nbformat": 4,
  "nbformat_minor": 0,
  "metadata": {
    "colab": {
      "provenance": [],
      "include_colab_link": true
    },
    "kernelspec": {
      "name": "python3",
      "display_name": "Python 3"
    },
    "language_info": {
      "name": "python"
    }
  },
  "cells": [
    {
      "cell_type": "markdown",
      "metadata": {
        "id": "view-in-github",
        "colab_type": "text"
      },
      "source": [
        "<a href=\"https://colab.research.google.com/github/valeromora/SenalesSistemasVM/blob/main/Python_Basics_VM/Copia_de_6_PythonDataTypesStructures.ipynb\" target=\"_parent\"><img src=\"https://colab.research.google.com/assets/colab-badge.svg\" alt=\"Open In Colab\"/></a>"
      ]
    },
    {
      "cell_type": "markdown",
      "source": [
        "##**Lists**\n",
        "\n",
        "In Python, a list is a data structure used to store an ordered collection of elements. It is called \"list\" in English.\n",
        "\n",
        "Lists are very versatile as they can contain elements of different data types such as numbers, strings, booleans, objects, and other lists. They can also be modified, which means that elements can be added, removed, or modified.\n",
        "\n",
        "To create a list in Python, square brackets [] are used.\n"
      ],
      "metadata": {
        "id": "7m2NOuILJwMh"
      }
    },
    {
      "cell_type": "code",
      "execution_count": null,
      "metadata": {
        "colab": {
          "base_uri": "https://localhost:8080/"
        },
        "id": "loCCLXyUJGEf",
        "outputId": "7c09e431-ba55-4db1-b4cd-73de473bc69b"
      },
      "outputs": [
        {
          "output_type": "execute_result",
          "data": {
            "text/plain": [
              "['Gerry', 1, 4.4, [0, 2, 3]]"
            ]
          },
          "metadata": {},
          "execution_count": 2
        }
      ],
      "source": [
        "lista1 = ['Gerry',1,4.4,[0,2,3]]\n",
        "lista1"
      ]
    },
    {
      "cell_type": "markdown",
      "source": [
        "I can show this element by element:"
      ],
      "metadata": {
        "id": "_hedGu3gKapT"
      }
    },
    {
      "cell_type": "code",
      "source": [
        "lista2 = lista1[1]\n",
        "lista2"
      ],
      "metadata": {
        "colab": {
          "base_uri": "https://localhost:8080/"
        },
        "id": "3EBTGE_fKed2",
        "outputId": "45fd979b-d6e1-4028-ef00-9fd5018e8fd1"
      },
      "execution_count": null,
      "outputs": [
        {
          "output_type": "execute_result",
          "data": {
            "text/plain": [
              "1"
            ]
          },
          "metadata": {},
          "execution_count": 3
        }
      ]
    },
    {
      "cell_type": "code",
      "source": [
        "lista2 = lista1[-1]\n",
        "lista2"
      ],
      "metadata": {
        "colab": {
          "base_uri": "https://localhost:8080/"
        },
        "id": "GolGrN4lKlIz",
        "outputId": "cc47adc1-3bce-44a7-c2dd-20285313a24e"
      },
      "execution_count": null,
      "outputs": [
        {
          "output_type": "execute_result",
          "data": {
            "text/plain": [
              "[0, 2, 3]"
            ]
          },
          "metadata": {},
          "execution_count": 4
        }
      ]
    },
    {
      "cell_type": "code",
      "source": [
        "lista2 = lista1[-1][2]\n",
        "lista2"
      ],
      "metadata": {
        "colab": {
          "base_uri": "https://localhost:8080/"
        },
        "id": "OVukUVegK8h5",
        "outputId": "08dd933d-142e-417f-eeb5-bf1ce7ffc78e"
      },
      "execution_count": null,
      "outputs": [
        {
          "output_type": "execute_result",
          "data": {
            "text/plain": [
              "3"
            ]
          },
          "metadata": {},
          "execution_count": 5
        }
      ]
    },
    {
      "cell_type": "markdown",
      "source": [
        "I can delete a element of my list:"
      ],
      "metadata": {
        "id": "E-cwOa5ILNBX"
      }
    },
    {
      "cell_type": "code",
      "source": [
        "del lista1[1]\n",
        "lista1"
      ],
      "metadata": {
        "colab": {
          "base_uri": "https://localhost:8080/"
        },
        "id": "0UYTeLIQLKO5",
        "outputId": "0e53d444-bc1e-4029-fcb6-bd4011af66c4"
      },
      "execution_count": null,
      "outputs": [
        {
          "output_type": "execute_result",
          "data": {
            "text/plain": [
              "['Gerry', 4.4, [0, 2, 3]]"
            ]
          },
          "metadata": {},
          "execution_count": 6
        }
      ]
    },
    {
      "cell_type": "code",
      "source": [
        "#I can add a element in the list with command .append, for example:\n",
        "\n",
        "lista1.append(4.5)\n",
        "lista1"
      ],
      "metadata": {
        "colab": {
          "base_uri": "https://localhost:8080/"
        },
        "id": "AyNgXL2nLnYq",
        "outputId": "a67cd10f-0003-4476-e3e5-88d8bd907b87"
      },
      "execution_count": null,
      "outputs": [
        {
          "output_type": "execute_result",
          "data": {
            "text/plain": [
              "['Gerry', 4.4, [0, 2, 3], 4.5]"
            ]
          },
          "metadata": {},
          "execution_count": 7
        }
      ]
    },
    {
      "cell_type": "markdown",
      "source": [
        "##**Tuples**\n",
        "\n",
        "In Python, a tuple is another built-in data type used to store a collection of elements.\n",
        "\n",
        "A tuple is similar to a list in that it can store objects of different data types, but unlike lists, tuples are immutable, meaning they cannot be modified once they are created.\n",
        "\n",
        "Tuples are usually created by enclosing a comma-separated sequence of objects in parentheses ().\n",
        "\n",
        "\n",
        "For example, (1, 2, 'three') is a tuple containing an integer, another integer, and a string. Tuples are often used for fixed data that does not need to be changed, such as a collection of constants or a set of coordinates in a coordinate plane.\n",
        "\n",
        "\n",
        "\n"
      ],
      "metadata": {
        "id": "IDgY8mwnL6VM"
      }
    },
    {
      "cell_type": "code",
      "source": [
        "Tuple = (1,2,3,4,5)\n",
        "Tuple"
      ],
      "metadata": {
        "colab": {
          "base_uri": "https://localhost:8080/"
        },
        "id": "sOihyTYlMXTm",
        "outputId": "6d29e68a-c8ea-473a-c08c-f148f30b2a74"
      },
      "execution_count": null,
      "outputs": [
        {
          "output_type": "execute_result",
          "data": {
            "text/plain": [
              "(1, 2, 3, 4, 5)"
            ]
          },
          "metadata": {},
          "execution_count": 8
        }
      ]
    },
    {
      "cell_type": "code",
      "source": [
        "Tuple[0]"
      ],
      "metadata": {
        "colab": {
          "base_uri": "https://localhost:8080/"
        },
        "id": "4i09enoPMhYb",
        "outputId": "03493672-5a41-4bf1-dd76-76a350861959"
      },
      "execution_count": null,
      "outputs": [
        {
          "output_type": "execute_result",
          "data": {
            "text/plain": [
              "1"
            ]
          },
          "metadata": {},
          "execution_count": 9
        }
      ]
    },
    {
      "cell_type": "code",
      "source": [
        "Tuple[0]=4 #you cannot modified it!"
      ],
      "metadata": {
        "colab": {
          "base_uri": "https://localhost:8080/",
          "height": 175
        },
        "id": "8-mDNlIfMjyD",
        "outputId": "256d9ca6-4d47-48df-c94f-c20631383a80"
      },
      "execution_count": null,
      "outputs": [
        {
          "output_type": "error",
          "ename": "TypeError",
          "evalue": "ignored",
          "traceback": [
            "\u001b[0;31m---------------------------------------------------------------------------\u001b[0m",
            "\u001b[0;31mTypeError\u001b[0m                                 Traceback (most recent call last)",
            "\u001b[0;32m<ipython-input-10-30abb6a97e7e>\u001b[0m in \u001b[0;36m<cell line: 1>\u001b[0;34m()\u001b[0m\n\u001b[0;32m----> 1\u001b[0;31m \u001b[0mTuple\u001b[0m\u001b[0;34m[\u001b[0m\u001b[0;36m0\u001b[0m\u001b[0;34m]\u001b[0m\u001b[0;34m=\u001b[0m\u001b[0;36m4\u001b[0m \u001b[0;31m#you cannot modified it!\u001b[0m\u001b[0;34m\u001b[0m\u001b[0;34m\u001b[0m\u001b[0m\n\u001b[0m",
            "\u001b[0;31mTypeError\u001b[0m: 'tuple' object does not support item assignment"
          ]
        }
      ]
    },
    {
      "cell_type": "markdown",
      "source": [
        "##**Sets**\n",
        "\n",
        "In Python, a set is a built-in data type used to store an unordered collection of unique elements. It is similar to a list or a tuple, but unlike those data types, a set cannot contain duplicate values.\n",
        "\n",
        "Sets are created using curly braces {} or by using the set() function. For example, the following code creates a set of integers:"
      ],
      "metadata": {
        "id": "sAtET_vZMmbP"
      }
    },
    {
      "cell_type": "code",
      "source": [
        "my_set = {1, 2, 3, 4,5,5,3} #you cannot store the 5 twice in a set!\n",
        "my_set"
      ],
      "metadata": {
        "colab": {
          "base_uri": "https://localhost:8080/"
        },
        "id": "00IvCp_PND36",
        "outputId": "35424e57-1920-4a31-e715-f077b0b8170a"
      },
      "execution_count": null,
      "outputs": [
        {
          "output_type": "execute_result",
          "data": {
            "text/plain": [
              "{1, 2, 3, 4, 5}"
            ]
          },
          "metadata": {},
          "execution_count": 11
        }
      ]
    },
    {
      "cell_type": "markdown",
      "source": [
        "Sets can also be used to perform mathematical set operations such as union, intersection, and difference.\n",
        "\n",
        "For example, given two sets set1 = {1, 2, 3} and set2 = {2, 3, 4}, the union of the two sets can be obtained using the | operator:"
      ],
      "metadata": {
        "id": "6FLcFWCsNI5A"
      }
    },
    {
      "cell_type": "code",
      "source": [
        "set1={1,2,3,4,8}\n",
        "set2={2,3,4}\n",
        "\n",
        "union_set = set1 | set2\n",
        "union_set\n"
      ],
      "metadata": {
        "colab": {
          "base_uri": "https://localhost:8080/"
        },
        "id": "O4ElDKysNJmT",
        "outputId": "b161fbfa-17fd-49d5-bac1-39b8d679aa71"
      },
      "execution_count": null,
      "outputs": [
        {
          "output_type": "execute_result",
          "data": {
            "text/plain": [
              "{1, 2, 3, 4, 8}"
            ]
          },
          "metadata": {},
          "execution_count": 12
        }
      ]
    },
    {
      "cell_type": "markdown",
      "source": [
        "Similarly, the intersection of the two sets can be obtained using the & operator:"
      ],
      "metadata": {
        "id": "4EICJO77NYUx"
      }
    },
    {
      "cell_type": "code",
      "source": [
        "intersection_set = set1 & set2\n",
        "intersection_set\n",
        "\n"
      ],
      "metadata": {
        "colab": {
          "base_uri": "https://localhost:8080/"
        },
        "id": "QxaUxi_8NX9c",
        "outputId": "708605d5-5f1e-44ce-a86d-723feeea62a7"
      },
      "execution_count": null,
      "outputs": [
        {
          "output_type": "execute_result",
          "data": {
            "text/plain": [
              "{2, 3, 4}"
            ]
          },
          "metadata": {},
          "execution_count": 13
        }
      ]
    },
    {
      "cell_type": "markdown",
      "source": [
        "And the difference of the two sets can be obtained using the - operator:"
      ],
      "metadata": {
        "id": "L5JlhT_1OQk8"
      }
    },
    {
      "cell_type": "code",
      "source": [
        "difference_set = set1 - set2\n",
        "difference_set"
      ],
      "metadata": {
        "colab": {
          "base_uri": "https://localhost:8080/"
        },
        "id": "RVaE-Y1PORc8",
        "outputId": "d4635966-7285-41fc-e661-7317a1390b0c"
      },
      "execution_count": null,
      "outputs": [
        {
          "output_type": "execute_result",
          "data": {
            "text/plain": [
              "{1, 8}"
            ]
          },
          "metadata": {},
          "execution_count": 14
        }
      ]
    },
    {
      "cell_type": "markdown",
      "source": [
        "##**Dictionaries**\n",
        "\n",
        "In Python, a dictionary is a built-in data structure used to store a collection of key-value pairs. It is sometimes referred to as an associative array, hash table or a map.\n",
        "\n",
        "A dictionary is created using curly braces {} and each key-value pair is separated by a colon (:). For example, the following code creates a dictionary of items and their prices"
      ],
      "metadata": {
        "id": "3tUubrxMOoSB"
      }
    },
    {
      "cell_type": "code",
      "source": [
        "prices = {'apple':0.5,'banana': 0.25, 'orange': 0.75}\n",
        "prices\n",
        "\n",
        "prices['orange']=1\n",
        "\n",
        "prices"
      ],
      "metadata": {
        "colab": {
          "base_uri": "https://localhost:8080/"
        },
        "id": "ubj9Qiv9O4UW",
        "outputId": "718a3dfb-f530-4998-c3a1-a096e7b786e2"
      },
      "execution_count": null,
      "outputs": [
        {
          "output_type": "execute_result",
          "data": {
            "text/plain": [
              "{'apple': 0.5, 'banana': 0.25, 'orange': 1}"
            ]
          },
          "metadata": {},
          "execution_count": 15
        }
      ]
    },
    {
      "cell_type": "markdown",
      "source": [
        "In this example, 'apple', 'banana', and 'orange' are keys, and 0.5, 0.25, and 0.75 are their corresponding values. The keys in a dictionary must be unique and immutable, while the values can be of any data type and can be duplicated.\n",
        "\n",
        "Values in a dictionary can be accessed by their corresponding keys, as shown in the following example:"
      ],
      "metadata": {
        "id": "Kpc4CDQdPBgJ"
      }
    },
    {
      "cell_type": "code",
      "source": [
        "apple_price = prices['banana']\n",
        "apple_price\n"
      ],
      "metadata": {
        "colab": {
          "base_uri": "https://localhost:8080/"
        },
        "id": "1i4_35S2PNAl",
        "outputId": "b6d3d7ce-8132-434f-9c84-2cee258094c2"
      },
      "execution_count": null,
      "outputs": [
        {
          "output_type": "execute_result",
          "data": {
            "text/plain": [
              "0.25"
            ]
          },
          "metadata": {},
          "execution_count": 16
        }
      ]
    },
    {
      "cell_type": "markdown",
      "source": [
        "Dictionaries are useful when you need to store and retrieve values by a specific key rather than by their position in a sequence. They are commonly used to represent mappings between items, such as a person's name and their contact information, or a word and its definition."
      ],
      "metadata": {
        "id": "nHbjpbQqPReD"
      }
    },
    {
      "cell_type": "code",
      "source": [
        "prices['banana']"
      ],
      "metadata": {
        "colab": {
          "base_uri": "https://localhost:8080/"
        },
        "id": "e4nTbDtKQGSg",
        "outputId": "75ae0e92-52c1-4539-a6e9-780a9de0b173"
      },
      "execution_count": null,
      "outputs": [
        {
          "output_type": "execute_result",
          "data": {
            "text/plain": [
              "0.25"
            ]
          },
          "metadata": {},
          "execution_count": 17
        }
      ]
    },
    {
      "cell_type": "markdown",
      "source": [
        "##**Example**\n",
        "\n",
        "Write a function that takes a list of numbers as input and returns a list that contains only the unique numbers from the original list. For example, if the input is [1, 2, 3, 2, 4, 3, 5], the function should return [1, 2, 3, 4, 5]."
      ],
      "metadata": {
        "id": "9CaTksnCTCBk"
      }
    },
    {
      "cell_type": "code",
      "source": [
        "def unique_numbers(nums):\n",
        "    return list(set(nums))#\n",
        "\n",
        "# Example usage\n",
        "nums = [1, 2, 3, 2, 4, 3, 5]\n",
        "print(unique_numbers(nums))"
      ],
      "metadata": {
        "colab": {
          "base_uri": "https://localhost:8080/"
        },
        "id": "TVhPTXtjTKMm",
        "outputId": "5c294de7-56e5-45fa-8378-143f02b14eef"
      },
      "execution_count": null,
      "outputs": [
        {
          "output_type": "stream",
          "name": "stdout",
          "text": [
            "[1, 2, 3, 4, 5]\n"
          ]
        }
      ]
    },
    {
      "cell_type": "markdown",
      "source": [
        "##**Example**\n",
        "\n",
        "Write a function that takes a dictionary as input and returns a list of the unique values in the dictionary. For example, if the dictionary is {'a': 1, 'b': 2, 'c': 1, 'd': 3}, the function should return [1, 2, 3]."
      ],
      "metadata": {
        "id": "HRXzajpMTiZj"
      }
    },
    {
      "cell_type": "code",
      "source": [
        "def ex2 (d):\n",
        "  lista = []\n",
        "  for i in d:\n",
        "    if d[i] not in lista:\n",
        "      lista.append(d[i])\n",
        "  return lista\n",
        "\n",
        "dicc ={'a': 1, 'b': 2, 'c': 1, 'd': 3}\n",
        "lis = ex2(dicc)\n",
        "lis"
      ],
      "metadata": {
        "colab": {
          "base_uri": "https://localhost:8080/"
        },
        "id": "s53Nhq7QV8CM",
        "outputId": "496fac90-19a3-4546-e326-25703a06a7b9"
      },
      "execution_count": null,
      "outputs": [
        {
          "output_type": "execute_result",
          "data": {
            "text/plain": [
              "[1, 2, 3]"
            ]
          },
          "metadata": {},
          "execution_count": 19
        }
      ]
    },
    {
      "cell_type": "markdown",
      "source": [
        "##**Exercise_1**\n",
        "\n",
        "Write a function that takes a list of numbers as input and returns the sum of all the odd numbers in the list. For example, if the input is [1, 2, 3, 4, 5, 6], the function should return 9 (which is the sum of 1, 3, and 5)."
      ],
      "metadata": {
        "id": "3MDtAtv-UG5P"
      }
    },
    {
      "cell_type": "code",
      "source": [
        "def sumodds (list):\n",
        "  sum=0\n",
        "  i=0\n",
        "  for i in range(len(list)):\n",
        "    if list[i]%2 != 0:\n",
        "      sum=sum+list[i]\n",
        "  return sum\n",
        "\n",
        "list1=[1,2,3,4,5,6]\n",
        "suma = sumodds(list1)\n",
        "suma"
      ],
      "metadata": {
        "colab": {
          "base_uri": "https://localhost:8080/"
        },
        "id": "T8GIPS_JehAI",
        "outputId": "5c38ad59-ed03-42c2-ae24-730d76056bd3"
      },
      "execution_count": null,
      "outputs": [
        {
          "output_type": "execute_result",
          "data": {
            "text/plain": [
              "9"
            ]
          },
          "metadata": {},
          "execution_count": 29
        }
      ]
    },
    {
      "cell_type": "markdown",
      "source": [
        "##**Exercise_2**\n",
        "Write a function that takes a list of words as input and returns a dictionary that counts the number of times each word appears in the list. For example, if the input is ['apple', 'banana', 'apple', 'cherry', 'cherry', 'cherry'], the function should return {'apple': 2, 'banana': 1, 'cherry': 3}."
      ],
      "metadata": {
        "id": "kPhBJ5HUUlvN"
      }
    },
    {
      "cell_type": "code",
      "source": [
        "def wordscounter(listofwords):\n",
        "  dic_word_counts = {}\n",
        "\n",
        "  for word in listofwords:\n",
        "    if word in dic_word_counts:\n",
        "      dic_word_counts[word] += 1\n",
        "    else:\n",
        "      dic_word_counts[word] = 1\n",
        "\n",
        "  return dic_word_counts\n",
        "\n",
        "words = ['apple', 'banana', 'apple', 'cherry', 'cherry', 'cherry']\n",
        "dic = wordscounter(words)\n",
        "print(dic)"
      ],
      "metadata": {
        "colab": {
          "base_uri": "https://localhost:8080/"
        },
        "id": "3gON3Q6Gd5AL",
        "outputId": "a93dcd83-dda8-4e8f-f9d7-c6e973484d34"
      },
      "execution_count": 2,
      "outputs": [
        {
          "output_type": "stream",
          "name": "stdout",
          "text": [
            "{'apple': 2, 'banana': 1, 'cherry': 3}\n"
          ]
        }
      ]
    },
    {
      "cell_type": "markdown",
      "source": [
        "Developed by:\n",
        "\n",
        "- Brian Patino Agudelo - bpatinoa@unal.edu.co\n",
        "\n",
        "- Andrés Marino Álvarez Meza - amalvarezme@unal.edu.co\n",
        "\n",
        "- César Germán Castellanos Domínguez - cgcastellanosd@unal.edu.co"
      ],
      "metadata": {
        "id": "9thTok_REswp"
      }
    }
  ]
}