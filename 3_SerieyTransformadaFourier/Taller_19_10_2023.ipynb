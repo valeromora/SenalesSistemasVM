{
  "nbformat": 4,
  "nbformat_minor": 0,
  "metadata": {
    "colab": {
      "provenance": [],
      "include_colab_link": true
    },
    "kernelspec": {
      "name": "python3",
      "display_name": "Python 3"
    },
    "language_info": {
      "name": "python"
    }
  },
  "cells": [
    {
      "cell_type": "markdown",
      "metadata": {
        "id": "view-in-github",
        "colab_type": "text"
      },
      "source": [
        "<a href=\"https://colab.research.google.com/github/valeromora/SenalesSistemasVM/blob/main/3_SerieyTransformadaFourier/Taller_19_10_2023.ipynb\" target=\"_parent\"><img src=\"https://colab.research.google.com/assets/colab-badge.svg\" alt=\"Open In Colab\"/></a>"
      ]
    },
    {
      "cell_type": "markdown",
      "source": [
        "# Taller\n",
        "# 2.4 Aplicación en circuitos electricos - potencia\n",
        "**Distorción total de armónicos (THD):** es una medida para evaluar la calidad de una señal eléctrica, en sistemas de audio y equipos eléctricos. Cuantifica la cantidad de armónicos presentes en una señal, de la siguiente manera:\n",
        "\\begin{equation}\n",
        "THD(\\%) = \\frac{∑Potencia de los armonicos}{Potencia de la frecuencia fundamental}\n",
        "\\end{equation}\n",
        "\\\n",
        "\\begin{equation}\n",
        "THD(\\%) = \\frac{P_0+P_1+P_2+P_3+...+P_n}{P_1}\n",
        "\\end{equation}\n",
        "Un valor bajo de THD indica que la señal está relativamente libre de distorsión armónica, mientras que un valor alto de THD indica que la señal está altamente distorsionada.\n",
        "\n",
        "**Factor de potencia en un circuito eléctrico:**"
      ],
      "metadata": {
        "id": "nwP35yXTCM77"
      }
    }
  ]
}