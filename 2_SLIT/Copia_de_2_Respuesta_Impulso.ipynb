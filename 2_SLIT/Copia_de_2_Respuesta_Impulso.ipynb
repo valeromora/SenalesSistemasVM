{
  "nbformat": 4,
  "nbformat_minor": 0,
  "metadata": {
    "colab": {
      "provenance": [],
      "include_colab_link": true
    },
    "kernelspec": {
      "display_name": "Python 3",
      "language": "python",
      "name": "python3"
    },
    "language_info": {
      "codemirror_mode": {
        "name": "ipython",
        "version": 3
      },
      "file_extension": ".py",
      "mimetype": "text/x-python",
      "name": "python",
      "nbconvert_exporter": "python",
      "pygments_lexer": "ipython3",
      "version": "3.7.1"
    }
  },
  "cells": [
    {
      "cell_type": "markdown",
      "metadata": {
        "id": "view-in-github",
        "colab_type": "text"
      },
      "source": [
        "<a href=\"https://colab.research.google.com/github/valeromora/SenalesSistemasVM/blob/main/2_SLIT/Copia_de_2_Respuesta_Impulso.ipynb\" target=\"_parent\"><img src=\"https://colab.research.google.com/assets/colab-badge.svg\" alt=\"Open In Colab\"/></a>"
      ]
    },
    {
      "cell_type": "markdown",
      "metadata": {
        "id": "DWA02Xu-Agmz",
        "nbsphinx": "hidden"
      },
      "source": [
        "# Caracterización de sistemas lineales e invariantes en el tiempo"
      ]
    },
    {
      "cell_type": "markdown",
      "metadata": {
        "id": "8EHzTYWPAgm6"
      },
      "source": [
        "## Respuesta al Impulso\n",
        "\n",
        "- La respuesta $y(t)$ de un sistema lineal e invariante en el tiempo (SLIT) $\\mathsf{H}\\{\\cdot\\}$ respecto a una señal de entrada arbitraria $x(t),$ se puede obtner con base a la integral de convolución utilizando la [respuesta al impulso](https://en.wikipedia.org/wiki/Linear_time-invariant_system).\n",
        "\n",
        "- La señal de entrada se puede representar como una integral cuando se aplica la propiedad de selectividad del impulso de Dirac:\n",
        "\n",
        "\\begin{equation}\n",
        "x(t) = \\int_{-\\infty}^{\\infty} x(\\tau) \\cdot \\delta(t-\\tau) \\; d \\tau\n",
        "\\end{equation}\n",
        "\n",
        "- Empleando la relación anterior para la señal de entrada $x(t)$ sobre la señal de salida $y(t)=\\mathsf{H}\\{x(t)\\}$ del sistema, se tiene que:\n",
        "\n",
        "\\begin{equation}\n",
        "y(t) = \\mathsf{H} \\left\\{ \\int_{-\\infty}^{\\infty} x(\\tau) \\cdot \\delta(t-\\tau) \\; d \\tau \\right\\}\n",
        "\\end{equation}\n",
        "\n",
        "donde $\\mathsf{H}\\{\\cdot\\}$ denota el operador de respuesta del sistema. El operador de integración y respuesta del sistema se pueden intercambiar bajo el supuesto de que el sistema es lineal:\n",
        "\n",
        "\\begin{equation}\n",
        "y(t) = \\int_{-\\infty}^{\\infty}  x(\\tau) \\cdot \\mathsf{H} \\left\\{ \\delta(t-\\tau) \\right\\} \\; d \\tau\n",
        "\\end{equation}\n",
        "\n",
        "donde $\\mathsf{H}\\{\\cdot\\}$ solo se aplica al impulso de Dirac, ya que $x(\\tau)$ puede considerarse como un factor constante con respecto al tiempo $t$. Se hace evidente que la respuesta de un sistema a un impulso de Dirac juega un papel importante en el cálculo de la señal de salida para señales de entrada arbitrarias.\n",
        "\n",
        "La respuesta de un sistema ante un impulso de dirac como entrada, se denomina [*respuesta al impulso*](https://en.wikipedia.org/wiki/Impulse_response). Se define como\n",
        "\n",
        "\\begin{equation}\n",
        "h(t) = \\mathsf{H} \\left\\{ \\delta(t) \\right\\}\n",
        "\\end{equation}\n",
        "\n",
        "Si el sistema es invariante en el tiempo, la respuesta a un impulso Dirac desplazado es $\\mathsf{H}\\left\\{\\delta(t-\\tau)\\right\\} = h(t-\\tau)$. Por lo tanto, para un SLIT se tiene que:\n",
        "\n",
        "\\begin{equation}\n",
        "y(t) = \\int_{-\\infty}^{\\infty}  x(\\tau) \\cdot h(t-\\tau) \\; d \\tau\n",
        "\\end{equation}\n",
        "\n",
        "La anterior operación se relaciona directamente con el operador [*convolución*](https://en.wikipedia.org/wiki/Convolution), definido $y(t)=x(t)*h(t)$.\n",
        "\n",
        "Se puede concluir que las propiedades de un SLIT están completamente caracterizadas por su respuesta al impulso.\n",
        "\n",
        "La respuesta $y(t)$ de un sistema a una señal de entrada arbitraria $x(t)$ está dada por la convolución de la señal de entrada $x(t)$ con su respuesta de impulso $h(t)$."
      ]
    },
    {
      "cell_type": "markdown",
      "metadata": {
        "id": "E-epKcIaAgm8"
      },
      "source": [
        "**Ejemplo**\n",
        "\n",
        "El siguiente ejemplo considera un SLIT cuya relación entre la entrada $x(t)$ y la salida $y(t)$ está dada por una ecuación diferencial ordinaria (EDO) con coeficientes constantes\n",
        "\n",
        "\\begin{equation}\n",
        "\\frac{d}{dt} y(t)+ y(t) = x(t)\n",
        "\\end{equation}\n",
        "\n",
        "La respuesta del sistema para la señal de entrada $x(t)=e^{-2t}\\cdot\\epsilon(t)$ se puede calcular mediante:\n",
        "\n",
        "1. Se resuelve la [EDO](https://en.wikipedia.org/wiki/Ordinary_differential_equation).\n",
        "2. Se calcula la respuesta al impulso $h(t)$ y se realiza la convolución con la entrada.\n",
        "\n",
        "Generalmente se asumen condiciones iniciales $y(t)\\big\\vert_{t=0-}=0$ y $\\frac{d}{dt}y(t)\\big\\vert_{t=0-}=0 $.\n",
        "\n",
        "Primero, se define la EDO en `SymPy`"
      ]
    },
    {
      "cell_type": "code",
      "metadata": {
        "colab": {
          "base_uri": "https://localhost:8080/",
          "height": 52
        },
        "id": "4BpQ4YsZAgm_",
        "outputId": "06c03ba7-7aee-4514-e7a8-8b17f4ef4215"
      },
      "source": [
        "%matplotlib inline\n",
        "import sympy as sym\n",
        "sym.init_printing()\n",
        "\n",
        "t = sym.symbols('t', real=True)\n",
        "x = sym.Function('x')(t)\n",
        "y = sym.Function('y')(t)\n",
        "\n",
        "ode = sym.Eq(y + y.diff(t) , x)#definir ecuacion en simpy con operador diferencial diff\n",
        "ode"
      ],
      "execution_count": null,
      "outputs": [
        {
          "output_type": "execute_result",
          "data": {
            "text/plain": [
              "       d              \n",
              "y(t) + ──(y(t)) = x(t)\n",
              "       dt             "
            ],
            "text/latex": "$\\displaystyle y{\\left(t \\right)} + \\frac{d}{d t} y{\\left(t \\right)} = x{\\left(t \\right)}$"
          },
          "metadata": {},
          "execution_count": 1
        }
      ]
    },
    {
      "cell_type": "markdown",
      "metadata": {
        "id": "TGrUvUlIAgnP"
      },
      "source": [
        "La EDO se resuelve para la señal de entrada dada con el fin de calcular la señal de salida. La constante de integración se calcula de forma que la solución cumpla las condiciones iniciales."
      ]
    },
    {
      "cell_type": "code",
      "metadata": {
        "colab": {
          "base_uri": "https://localhost:8080/",
          "height": 39
        },
        "id": "Qm0ztn5BAgnS",
        "outputId": "10b037a3-4d08-4308-85c7-7d1e1c0b4953"
      },
      "source": [
        "solution = sym.dsolve(ode.subs(x, sym.exp(-2*t)*sym.Heaviside(t)))#resolver edo ante entrada x(t)\n",
        "#se definin condiciones iniciales 0\n",
        "integration_constants = sym.solve( (solution.rhs.limit(t, 0, '-'), solution.rhs.diff(t).limit(t, 0, '-')), 'C1' )\n",
        "y1 = solution.subs(integration_constants)\n",
        "y1"
      ],
      "execution_count": null,
      "outputs": [
        {
          "output_type": "execute_result",
          "data": {
            "text/plain": [
              "       ⎛        -t     ⎞  -t\n",
              "y(t) = ⎝θ(t) - ℯ  ⋅θ(t)⎠⋅ℯ  "
            ],
            "text/latex": "$\\displaystyle y{\\left(t \\right)} = \\left(\\theta\\left(t\\right) - e^{- t} \\theta\\left(t\\right)\\right) e^{- t}$"
          },
          "metadata": {},
          "execution_count": 2
        }
      ]
    },
    {
      "cell_type": "markdown",
      "metadata": {
        "id": "GCQz-z6jAgnb"
      },
      "source": [
        "Se grafica la solución de la EDO"
      ]
    },
    {
      "cell_type": "code",
      "metadata": {
        "colab": {
          "base_uri": "https://localhost:8080/",
          "height": 484
        },
        "id": "fLKlj4_HAgnd",
        "outputId": "780344e0-991e-464a-9879-c0af43605591"
      },
      "source": [
        "sym.plot(y1.rhs, (t,-1,10), ylabel=r'$y(t)$');"
      ],
      "execution_count": null,
      "outputs": [
        {
          "output_type": "display_data",
          "data": {
            "text/plain": [
              "<Figure size 640x480 with 1 Axes>"
            ],
            "image/png": "[encoded data removed]"
          },
          "metadata": {}
        }
      ]
    },
    {
      "cell_type": "markdown",
      "metadata": {
        "id": "Dn-Ye_pWAgnm"
      },
      "source": [
        "La respuesta al impulso $h(t)$ se puede calcular resolviendo la EDO para un impulso de Dirac como señal de entrada, $x(t)=\\delta(t)$."
      ]
    },
    {
      "cell_type": "code",
      "metadata": {
        "colab": {
          "base_uri": "https://localhost:8080/",
          "height": 39
        },
        "id": "eiyUSZjIAgno",
        "outputId": "0a775c14-486f-47de-f421-265fa992a7c8"
      },
      "source": [
        "h = sym.Function('h')(t)\n",
        "solution2 = sym.dsolve(ode.subs(x, sym.DiracDelta(t)).subs(y, h))#resolver para delta dirac\n",
        "integration_constants = sym.solve( (solution2.rhs.limit(t, 0, '-'), solution2.rhs.diff(t).limit(t, 0, '-')), 'C1' )\n",
        "h = solution2.subs(integration_constants)\n",
        "h"
      ],
      "execution_count": null,
      "outputs": [
        {
          "output_type": "execute_result",
          "data": {
            "text/plain": [
              "        -t     \n",
              "h(t) = ℯ  ⋅θ(t)"
            ],
            "text/latex": "$\\displaystyle h{\\left(t \\right)} = e^{- t} \\theta\\left(t\\right)$"
          },
          "metadata": {},
          "execution_count": 4
        }
      ]
    },
    {
      "cell_type": "markdown",
      "metadata": {
        "id": "ArILc1haAgnz"
      },
      "source": [
        "Se grafica la respuesta al impulso $h(t)$ del SLIT:"
      ]
    },
    {
      "cell_type": "code",
      "metadata": {
        "colab": {
          "base_uri": "https://localhost:8080/",
          "height": 484
        },
        "id": "qyMYEIPyAgn1",
        "outputId": "1827b98d-8d18-4e78-8911-954562a98558"
      },
      "source": [
        "sym.plot(h.rhs, (t,-1,10), ylabel=r'$h(t)$');"
      ],
      "execution_count": null,
      "outputs": [
        {
          "output_type": "display_data",
          "data": {
            "text/plain": [
              "<Figure size 640x480 with 1 Axes>"
            ],
            "image/png": "[encoded data removed]"
          },
          "metadata": {}
        }
      ]
    },
    {
      "cell_type": "markdown",
      "metadata": {
        "id": "Bxb3Ld_qAgn-"
      },
      "source": [
        "Como alternativa a la solución explícita de la EDO, la respuesta del sistema se calcula evaluando la convolución $y(t)=x(t)*h(t)$.\n",
        "\n",
        "**Nota**:Dado que `SymPy` no puede manejar la función Heaviside de manera adecuada en las integrales, la integral de convolución se simplifica primero. Tanto la señal de entrada $x(t)$ como la respuesta de impulso $h(t)$ son señales causales. Por lo tanto, la integral de convolución resulta en\n",
        "\n",
        "\\begin{equation}\n",
        "y(t) = \\int_{0}^{t} x(\\tau) \\cdot h(t - \\tau) \\; d\\tau\n",
        "\\end{equation}\n",
        "\n",
        "Para $t\\geq0$. Observe que $y(t)=0$ para $t<0$."
      ]
    },
    {
      "cell_type": "code",
      "metadata": {
        "colab": {
          "base_uri": "https://localhost:8080/",
          "height": 39
        },
        "id": "Nur3pq9cAgoA",
        "outputId": "39631c7c-0f91-4164-9b4e-fe26dd3a4a50"
      },
      "source": [
        "tau = sym.symbols('tau', real=True)\n",
        "\n",
        "y2 = sym.integrate(sym.exp(-2*tau) * h.rhs.subs(sym.Heaviside(t), 1).subs(t, t-tau), (tau, 0, t))\n",
        "y2"
      ],
      "execution_count": null,
      "outputs": [
        {
          "output_type": "execute_result",
          "data": {
            "text/plain": [
              " -t    -2⋅t\n",
              "ℯ   - ℯ    "
            ],
            "text/latex": "$\\displaystyle e^{- t} - e^{- 2 t}$"
          },
          "metadata": {},
          "execution_count": 6
        }
      ]
    },
    {
      "cell_type": "markdown",
      "metadata": {
        "id": "7m3M1svAAgoK"
      },
      "source": [
        "Se grafica la señal de salida obtenida mediante el proceso de convolución:"
      ]
    },
    {
      "cell_type": "code",
      "metadata": {
        "colab": {
          "base_uri": "https://localhost:8080/",
          "height": 484
        },
        "id": "HzZsSTRAAgoM",
        "outputId": "edb2a9e5-5b68-40b3-a4d6-129b22ef3e79"
      },
      "source": [
        "sym.plot(y2, (t,0,10), ylabel=r'$y(t)$');"
      ],
      "execution_count": null,
      "outputs": [
        {
          "output_type": "display_data",
          "data": {
            "text/plain": [
              "<Figure size 640x480 with 1 Axes>"
            ],
            "image/png": "[encoded data removed]"
          },
          "metadata": {}
        }
      ]
    },
    {
      "cell_type": "markdown",
      "metadata": {
        "id": "e6YWym8VAgoT"
      },
      "source": [
        "**Ejercicio**\n",
        "\n",
        "* Compare la señal de salida obtenida al resolver la EDO con la obtenida mediante la convolución. Son iguales?\n",
        "* Compruebe la solución $h(t)$ de la EDO cuando $x(t)=\\delta(t)$ de manera manual. Tener en cuenta que $\\frac{d}{dt} \\epsilon(t) = \\delta(t)$.\n",
        "* Comprobar la solución de la integral de convolución de manera manual. Tener en cuenta las funciones Heaviside."
      ]
    },
    {
      "cell_type": "markdown",
      "source": [
        "\n",
        "\n",
        "---\n",
        "\n",
        "\n",
        "**Solución**"
      ],
      "metadata": {
        "id": "JKcst3WXTahc"
      }
    },
    {
      "cell_type": "markdown",
      "source": [
        "* Problema 1:"
      ],
      "metadata": {
        "id": "JwpMSRqoTc5T"
      }
    },
    {
      "cell_type": "code",
      "source": [
        "x =  sym.DiracDelta(t)\n",
        "ode = sym.Eq(y + y.diff(t), x)       # EDO\n",
        "\n",
        "solution = sym.dsolve(ode.subs(x, sym.Heaviside(t).diff(t)))\n",
        "solucion = sym.dsolve(ode)\n",
        "\n",
        "integration_constants = sym.solve( (solution.rhs.limit(t, 0, '-'), solution.rhs.diff(t).limit(t, 0, '-')), 'C1' )\n",
        "y1 = solution.subs(integration_constants)\n",
        "y1"
      ],
      "metadata": {
        "id": "2-BkkHa0Tg5U",
        "outputId": "0c5c2302-13f8-45e3-97c7-229d5e8ddcb6",
        "colab": {
          "base_uri": "https://localhost:8080/",
          "height": 39
        }
      },
      "execution_count": null,
      "outputs": [
        {
          "output_type": "execute_result",
          "data": {
            "text/plain": [
              "        -t     \n",
              "y(t) = ℯ  ⋅θ(t)"
            ],
            "text/latex": "$\\displaystyle y{\\left(t \\right)} = e^{- t} \\theta\\left(t\\right)$"
          },
          "metadata": {},
          "execution_count": 8
        }
      ]
    },
    {
      "cell_type": "code",
      "source": [
        "x_delta = sym.DiracDelta(t)\n",
        "x_delta"
      ],
      "metadata": {
        "id": "SLoIg4SJTmD7",
        "outputId": "66ccbb12-9c25-4b9f-abad-861a9bd1c56d",
        "colab": {
          "base_uri": "https://localhost:8080/",
          "height": 39
        }
      },
      "execution_count": null,
      "outputs": [
        {
          "output_type": "execute_result",
          "data": {
            "text/plain": [
              "δ(t)"
            ],
            "text/latex": "$\\displaystyle \\delta\\left(t\\right)$"
          },
          "metadata": {},
          "execution_count": 10
        }
      ]
    },
    {
      "cell_type": "markdown",
      "source": [
        "* Problema 2:"
      ],
      "metadata": {
        "id": "3OJ0_Q6LTekG"
      }
    },
    {
      "cell_type": "markdown",
      "source": [
        "\n",
        "$u(t)$ = \\begin{cases}\n",
        "               0, & \\text{si } t < 0 \\\\\n",
        "               1, & \\text{si } t \\geq 0\n",
        "            \\end{cases}\n",
        "\n",
        "\n",
        "   $δ(t)$ = \\begin{cases}\n",
        "               0, & \\text{si } t \\neq 0 \\\\\n",
        "               ∞, & \\text{si } t = 0\n",
        "            \\end{cases}\n",
        "   \n",
        "\n",
        "A continuación, demostraremos que la derivada de la respuesta escalón es igual a la respuesta impulso en convolución.\n",
        "\n",
        "La derivada de la función escalón, denotada como $du(t)/dt$, se puede definir como:\n",
        "\n",
        "$$\\frac{du(t)}{dt} = \\lim_{h \\to 0} \\frac{u(t+h) - u(t)}{h}$$\n",
        "\n",
        "Para $t ≠ 0$, la derivada es claramente 0, ya que la función escalón es constante en esa región.\n",
        "\n",
        "Para t = 0, la derivada se puede calcular utilizando el límite:\n",
        "\n",
        "$$\\frac{du(t)}{dt} = \\lim_{h \\to 0} \\frac{u(h) - u(0)}{h} = \\lim_{h \\to 0} \\frac{1 - 0}{h} = \\lim_{h \\to 0} \\frac{1}{h}$$\n",
        "\n",
        "Este límite se acerca a infinito cuando h tiende a 0, lo que coincide con la definición de la respuesta impulso unitario $δ(t) en t = 0$.\n",
        "\n",
        "Entonces, podemos decir que:\n",
        "\n",
        "$$\\frac{du(t)}{dt} = δ(t)$$\n",
        "\n",
        "Esto demuestra que la derivada de la respuesta escalón unitario es igual a la respuesta impulso unitario en convolución.\n"
      ],
      "metadata": {
        "id": "IG5Ztf2sTvWc"
      }
    },
    {
      "cell_type": "markdown",
      "source": [
        "* Problema 3:"
      ],
      "metadata": {
        "id": "Xw9iYXq0Tfv9"
      }
    },
    {
      "cell_type": "markdown",
      "metadata": {
        "id": "ZavLa5BxAgoV",
        "nbsphinx": "hidden"
      },
      "source": [
        "**Copyright**\n",
        "\n",
        "The notebooks are provided as [Open Educational Resource](https://de.wikipedia.org/wiki/Open_Educational_Resources). Feel free to use the notebooks for your own educational purposes. The text is licensed under [Creative Commons Attribution 4.0](https://creativecommons.org/licenses/by/4.0/), the code of the IPython examples under the [MIT license](https://opensource.org/licenses/MIT). Please attribute the work as follows: *Lecture Notes on Signals and Systems* by Sascha Spors."
      ]
    }
  ]
}