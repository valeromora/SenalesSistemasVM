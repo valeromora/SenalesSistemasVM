{
  "nbformat": 4,
  "nbformat_minor": 0,
  "metadata": {
    "colab": {
      "provenance": [],
      "include_colab_link": true
    },
    "kernelspec": {
      "name": "python3",
      "display_name": "Python 3"
    },
    "widgets": {
      "application/vnd.jupyter.widget-state+json": {
        "f3fee6a0bef2403ea5203a47ed6b6d42": {
          "model_module": "@jupyter-widgets/controls",
          "model_name": "VBoxModel",
          "model_module_version": "1.5.0",
          "state": {
            "_view_name": "VBoxView",
            "_dom_classes": [
              "widget-interact"
            ],
            "_model_name": "VBoxModel",
            "_view_module": "@jupyter-widgets/controls",
            "_model_module_version": "1.5.0",
            "_view_count": null,
            "_view_module_version": "1.5.0",
            "box_style": "",
            "layout": "IPY_MODEL_3678bc7561884f93a28e1857729618e7",
            "_model_module": "@jupyter-widgets/controls",
            "children": [
              "IPY_MODEL_d4b166de4fa5432387de2bc85080afda",
              "IPY_MODEL_28ae212e9849422fb18f116f50eef318"
            ]
          }
        },
        "3678bc7561884f93a28e1857729618e7": {
          "model_module": "@jupyter-widgets/base",
          "model_name": "LayoutModel",
          "model_module_version": "1.2.0",
          "state": {
            "_view_name": "LayoutView",
            "grid_template_rows": null,
            "right": null,
            "justify_content": null,
            "_view_module": "@jupyter-widgets/base",
            "overflow": null,
            "_model_module_version": "1.2.0",
            "_view_count": null,
            "flex_flow": null,
            "width": null,
            "min_width": null,
            "border": null,
            "align_items": null,
            "bottom": null,
            "_model_module": "@jupyter-widgets/base",
            "top": null,
            "grid_column": null,
            "overflow_y": null,
            "overflow_x": null,
            "grid_auto_flow": null,
            "grid_area": null,
            "grid_template_columns": null,
            "flex": null,
            "_model_name": "LayoutModel",
            "justify_items": null,
            "grid_row": null,
            "max_height": null,
            "align_content": null,
            "visibility": null,
            "align_self": null,
            "height": null,
            "min_height": null,
            "padding": null,
            "grid_auto_rows": null,
            "grid_gap": null,
            "max_width": null,
            "order": null,
            "_view_module_version": "1.2.0",
            "grid_template_areas": null,
            "object_position": null,
            "object_fit": null,
            "grid_auto_columns": null,
            "margin": null,
            "display": null,
            "left": null
          }
        },
        "d4b166de4fa5432387de2bc85080afda": {
          "model_module": "@jupyter-widgets/controls",
          "model_name": "IntSliderModel",
          "model_module_version": "1.5.0",
          "state": {
            "_view_name": "IntSliderView",
            "style": "IPY_MODEL_40ec3de8680d470293f2d3b21cb85739",
            "_dom_classes": [],
            "description": "k",
            "step": 1,
            "_model_name": "IntSliderModel",
            "orientation": "horizontal",
            "max": 27,
            "_view_module": "@jupyter-widgets/controls",
            "_model_module_version": "1.5.0",
            "value": 27,
            "_view_count": null,
            "disabled": false,
            "_view_module_version": "1.5.0",
            "min": 0,
            "continuous_update": true,
            "readout_format": "d",
            "description_tooltip": null,
            "readout": true,
            "_model_module": "@jupyter-widgets/controls",
            "layout": "IPY_MODEL_58142a94d7e246f1bdce3c0a1c0f046f"
          }
        },
        "28ae212e9849422fb18f116f50eef318": {
          "model_module": "@jupyter-widgets/output",
          "model_name": "OutputModel",
          "model_module_version": "1.0.0",
          "state": {
            "_view_name": "OutputView",
            "msg_id": "",
            "_dom_classes": [],
            "_model_name": "OutputModel",
            "outputs": [
              {
                "output_type": "stream",
                "name": "stderr",
                "text": [
                  "/usr/local/lib/python3.7/dist-packages/ipykernel_launcher.py:19: UserWarning: In Matplotlib 3.3 individual lines on a stem plot will be added as a LineCollection instead of individual lines. This significantly improves the performance of a stem plot. To remove this warning and switch to the new behaviour, set the \"use_line_collection\" keyword argument to True.\n",
                  "/usr/local/lib/python3.7/dist-packages/ipykernel_launcher.py:20: UserWarning: In Matplotlib 3.3 individual lines on a stem plot will be added as a LineCollection instead of individual lines. This significantly improves the performance of a stem plot. To remove this warning and switch to the new behaviour, set the \"use_line_collection\" keyword argument to True.\n",
                  "/usr/local/lib/python3.7/dist-packages/numpy/core/_asarray.py:136: VisibleDeprecationWarning: Creating an ndarray from ragged nested sequences (which is a list-or-tuple of lists-or-tuples-or ndarrays with different lengths or shapes) is deprecated. If you meant to do this, you must specify 'dtype=object' when creating the ndarray\n",
                  "  return array(a, dtype, copy=False, order=order, subok=True)\n",
                  "/usr/local/lib/python3.7/dist-packages/ipykernel_launcher.py:21: UserWarning: In Matplotlib 3.3 individual lines on a stem plot will be added as a LineCollection instead of individual lines. This significantly improves the performance of a stem plot. To remove this warning and switch to the new behaviour, set the \"use_line_collection\" keyword argument to True.\n"
                ]
              },
              {
                "output_type": "display_data",
                "data": {
                  "image/png": "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\n",
                  "text/plain": "<Figure size 432x288 with 1 Axes>"
                },
                "metadata": {
                  "needs_background": "light"
                }
              }
            ],
            "_view_module": "@jupyter-widgets/output",
            "_model_module_version": "1.0.0",
            "_view_count": null,
            "_view_module_version": "1.0.0",
            "layout": "IPY_MODEL_b103cd2fd75048aa866924728ebb868d",
            "_model_module": "@jupyter-widgets/output"
          }
        },
        "40ec3de8680d470293f2d3b21cb85739": {
          "model_module": "@jupyter-widgets/controls",
          "model_name": "SliderStyleModel",
          "model_module_version": "1.5.0",
          "state": {
            "_view_name": "StyleView",
            "handle_color": null,
            "_model_name": "SliderStyleModel",
            "description_width": "",
            "_view_module": "@jupyter-widgets/base",
            "_model_module_version": "1.5.0",
            "_view_count": null,
            "_view_module_version": "1.2.0",
            "_model_module": "@jupyter-widgets/controls"
          }
        },
        "58142a94d7e246f1bdce3c0a1c0f046f": {
          "model_module": "@jupyter-widgets/base",
          "model_name": "LayoutModel",
          "model_module_version": "1.2.0",
          "state": {
            "_view_name": "LayoutView",
            "grid_template_rows": null,
            "right": null,
            "justify_content": null,
            "_view_module": "@jupyter-widgets/base",
            "overflow": null,
            "_model_module_version": "1.2.0",
            "_view_count": null,
            "flex_flow": null,
            "width": null,
            "min_width": null,
            "border": null,
            "align_items": null,
            "bottom": null,
            "_model_module": "@jupyter-widgets/base",
            "top": null,
            "grid_column": null,
            "overflow_y": null,
            "overflow_x": null,
            "grid_auto_flow": null,
            "grid_area": null,
            "grid_template_columns": null,
            "flex": null,
            "_model_name": "LayoutModel",
            "justify_items": null,
            "grid_row": null,
            "max_height": null,
            "align_content": null,
            "visibility": null,
            "align_self": null,
            "height": null,
            "min_height": null,
            "padding": null,
            "grid_auto_rows": null,
            "grid_gap": null,
            "max_width": null,
            "order": null,
            "_view_module_version": "1.2.0",
            "grid_template_areas": null,
            "object_position": null,
            "object_fit": null,
            "grid_auto_columns": null,
            "margin": null,
            "display": null,
            "left": null
          }
        },
        "b103cd2fd75048aa866924728ebb868d": {
          "model_module": "@jupyter-widgets/base",
          "model_name": "LayoutModel",
          "model_module_version": "1.2.0",
          "state": {
            "_view_name": "LayoutView",
            "grid_template_rows": null,
            "right": null,
            "justify_content": null,
            "_view_module": "@jupyter-widgets/base",
            "overflow": null,
            "_model_module_version": "1.2.0",
            "_view_count": null,
            "flex_flow": null,
            "width": null,
            "min_width": null,
            "border": null,
            "align_items": null,
            "bottom": null,
            "_model_module": "@jupyter-widgets/base",
            "top": null,
            "grid_column": null,
            "overflow_y": null,
            "overflow_x": null,
            "grid_auto_flow": null,
            "grid_area": null,
            "grid_template_columns": null,
            "flex": null,
            "_model_name": "LayoutModel",
            "justify_items": null,
            "grid_row": null,
            "max_height": null,
            "align_content": null,
            "visibility": null,
            "align_self": null,
            "height": null,
            "min_height": null,
            "padding": null,
            "grid_auto_rows": null,
            "grid_gap": null,
            "max_width": null,
            "order": null,
            "_view_module_version": "1.2.0",
            "grid_template_areas": null,
            "object_position": null,
            "object_fit": null,
            "grid_auto_columns": null,
            "margin": null,
            "display": null,
            "left": null
          }
        }
      }
    }
  },
  "cells": [
    {
      "cell_type": "markdown",
      "metadata": {
        "id": "view-in-github",
        "colab_type": "text"
      },
      "source": [
        "<a href=\"https://colab.research.google.com/github/valeromora/SenalesSistemasVM/blob/main/2_SLIT/Copia_de_4_convolucionSyS.ipynb\" target=\"_parent\"><img src=\"https://colab.research.google.com/assets/colab-badge.svg\" alt=\"Open In Colab\"/></a>"
      ]
    },
    {
      "cell_type": "markdown",
      "metadata": {
        "id": "ltZFXHh6H_8Z"
      },
      "source": [
        "# Convolución discreta y SLITs\n",
        "\n",
        "- A continuación se ilustra el proceso de convolución y respuesta al impulso para resolver sistemas lineales e invariantes en el tiempo (SLIT) discreto.\n",
        "\n",
        "- Dada la respuesta al impulso en tiempo discreto $h[n]\\in\\mathbb{R},\\mathbb{C}$ de un SLIT $\\mathsf{H}\\{\\cdot\\},$ la respuesta del sistema $y[n]\\in\\mathbb{R},\\mathbb{C}$ ante la entrada discreta $x[n]\\in\\mathbb{R},\\mathbb{C}$, se puede calcular mediante el operador convolución:\n",
        "\n",
        "$$y[n]=x[n]*h[n] = \\sum^\\infty_{k=-\\infty}x[k]h[n-k].$$\n",
        "\n",
        "- En general, se cuenta con vectores de tamaño finito, y con sistemas causales, por ende, si $x[n]$ cuenta con $N$ elementos y $h[n]$ con $L$ elementos, la salida $y[n]$ tendra, en el mejor de los casos, $M = N + L - 1$ elementos distintos de 0 (ver [interpretación gráfica convolución](https://en.wikipedia.org/wiki/Convolution)).\n",
        "\n",
        "\n",
        "**Ejemplo**\n",
        "\n",
        "- Se presenta la simulación del cálculo de la salida de un SLIT en tiempo discreto utilizando la respuesta al impulso y la convolución discreta implementando punto a punto el proceso de suma y comparando los resultados con la librería [convolve](https://numpy.org/doc/stable/reference/generated/numpy.convolve.html) de numpy."
      ]
    },
    {
      "cell_type": "code",
      "metadata": {
        "id": "XVcI_Xk2_U2Y"
      },
      "source": [
        "%matplotlib inline\n",
        "from ipywidgets import interact #crear graficos interactivos\n",
        "import numpy as np\n",
        "import matplotlib.pyplot as plt\n",
        "from scipy import signal #crear señales prototipo en tiempo discreto\n"
      ],
      "execution_count": null,
      "outputs": []
    },
    {
      "cell_type": "code",
      "metadata": {
        "id": "ckohmENyAH1j"
      },
      "source": [
        "#crear señales\n",
        "h = np.r_[np.zeros((5,1)),np.ones((5,1)),np.zeros((5,1))] # se genera un pulso rectangular\n",
        "x = signal.triang(12).reshape(-1,1) # se genera una señal triangular y se trabaja con arreglos tipo columna\n",
        "#funcion convolucion\n",
        "def convgraf(h,x): #función general para pintar proceso de convolución de forma interactiva\n",
        "   lx = len(x)\n",
        "   lh = len(h)\n",
        "   M = 2*lx+lh # se genera un vector de tamaño completo para visualizar todo el proceso paso a paso\n",
        "   xm = np.zeros((M,M))\n",
        "   hm = np.r_[np.zeros((lx,1)),h,np.zeros((lx,1))]\n",
        "   ym = np.zeros((M,M))\n",
        "   for i in range(M-lx+1):\n",
        "     #print(i)\n",
        "     xm[i:i+lx,i] = np.flip(x).reshape(-1)#filp realizar el proceso de reflejo sobre arreglos discretos\n",
        "     ym[i,i] = xm[:,i].T.dot(hm) #multiplicacion entre vectores -> producto punto\n",
        "   return xm, ym, hm\n",
        "\n",
        "def plot_conv(k,xm,ym,hm): #dibujar arreglos\n",
        "     plt.stem(xm[:,k],markerfmt='+',label='$x[k]$')\n",
        "     plt.stem(hm,linefmt='g',markerfmt='.',label='$h[n-k]$')\n",
        "     plt.stem(ym[:k,:].sum(axis=0),markerfmt='s',linefmt='r',label='$y[n]=\\sum^{\\infty}_{k=-\\infty}x[k]h[n-k]$')\n",
        "     plt.legend()\n",
        "     plt.show()\n",
        "     return\n",
        "\n",
        "xm, ym, hm = convgraf(h,x)"
      ],
      "execution_count": null,
      "outputs": []
    },
    {
      "cell_type": "code",
      "metadata": {
        "id": "-EPYt_Z2_M5e",
        "colab": {
          "base_uri": "https://localhost:8080/",
          "height": 404,
          "referenced_widgets": [
            "f3fee6a0bef2403ea5203a47ed6b6d42",
            "3678bc7561884f93a28e1857729618e7",
            "d4b166de4fa5432387de2bc85080afda",
            "28ae212e9849422fb18f116f50eef318",
            "40ec3de8680d470293f2d3b21cb85739",
            "58142a94d7e246f1bdce3c0a1c0f046f",
            "b103cd2fd75048aa866924728ebb868d"
          ]
        },
        "outputId": "320dab92-8e97-45a2-9d5e-861516622206"
      },
      "source": [
        "#@interact(m=range(xm.shape[0]-len(x)+1)) #define panel tipo selección en el gráfico interactivo\n",
        "@interact(k=(0, xm.shape[0]-len(x), 1))\n",
        "def show_frame(k=0):\n",
        "    plot_conv(k,xm,ym,hm)\n",
        "plt.show()"
      ],
      "execution_count": null,
      "outputs": [
        {
          "output_type": "display_data",
          "data": {
            "application/vnd.jupyter.widget-view+json": {
              "model_id": "f3fee6a0bef2403ea5203a47ed6b6d42",
              "version_minor": 0,
              "version_major": 2
            },
            "text/plain": [
              "interactive(children=(IntSlider(value=0, description='k', max=27), Output()), _dom_classes=('widget-interact',…"
            ]
          },
          "metadata": {}
        }
      ]
    },
    {
      "cell_type": "markdown",
      "metadata": {
        "id": "gZvIFK0Qmrbu"
      },
      "source": [
        "**Nota**: Para resolver SLIT en tiempo discreto respecto a su respuesta escalón, puede utilizar el operador de derivada en tiempo discreto de numpy [diferencia discreta](https://numpy.org/doc/stable/reference/generated/numpy.diff.html) para estimar la respuesta al impulso $h[n]$ desde la respueta escalón $\\mathsf{H}\\{\\epsilon[n]\\}.$\n",
        "\n",
        "- El paquete numpy tiene implementado la convolución discreta (Ver [numpy.convolve](https://numpy.org/doc/stable/reference/generated/numpy.convolve.html))."
      ]
    },
    {
      "cell_type": "code",
      "metadata": {
        "id": "H1Dis0ruH4JV"
      },
      "source": [],
      "execution_count": null,
      "outputs": []
    }
  ]
}