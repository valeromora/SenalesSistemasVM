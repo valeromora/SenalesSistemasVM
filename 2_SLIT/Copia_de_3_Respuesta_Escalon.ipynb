{
  "nbformat": 4,
  "nbformat_minor": 0,
  "metadata": {
    "colab": {
      "provenance": [],
      "include_colab_link": true
    },
    "language_info": {
      "codemirror_mode": {
        "name": "ipython",
        "version": 3
      },
      "file_extension": ".py",
      "mimetype": "text/x-python",
      "name": "python",
      "nbconvert_exporter": "python",
      "pygments_lexer": "ipython3",
      "version": "3.6.4"
    },
    "kernelspec": {
      "display_name": "Python 3",
      "language": "python",
      "name": "python3"
    }
  },
  "cells": [
    {
      "cell_type": "markdown",
      "metadata": {
        "id": "view-in-github",
        "colab_type": "text"
      },
      "source": [
        "<a href=\"https://colab.research.google.com/github/valeromora/SenalesSistemasVM/blob/main/2_SLIT/Copia_de_3_Respuesta_Escalon.ipynb\" target=\"_parent\"><img src=\"https://colab.research.google.com/assets/colab-badge.svg\" alt=\"Open In Colab\"/></a>"
      ]
    },
    {
      "cell_type": "markdown",
      "metadata": {
        "nbsphinx": "hidden",
        "id": "yJbNFgAXG3Bt"
      },
      "source": [
        "# Caracterización de sistemas lineales e invariantes en el tiempo"
      ]
    },
    {
      "cell_type": "markdown",
      "metadata": {
        "id": "uhTnTZ8SG3Bz"
      },
      "source": [
        "## Respuesta al escalón\n",
        "\n",
        "La respuesta de un SLIT a un Heaviside $\\epsilon(t)$ a la entrada es conocida como [*respuesta al escalón*](https://en.wikipedia.org/wiki/Step_response). Se define como\n",
        "\n",
        "\\begin{equation}\n",
        "h_\\epsilon(t) = \\mathsf{H} \\{ \\epsilon(t) \\}\n",
        "\\end{equation}\n",
        "\n",
        "La respuesta al escalón caracteriza las propiedades de un sistema cuando la señal de entrada se 'enciende' en $t=0$. Puede estar relacionado con la respuesta al impulso $h(t)$ del sistema por:\n",
        "\n",
        "\\begin{equation}\n",
        "h_\\epsilon(t) = \\epsilon(t) * h(t) = \\int_{-\\infty}^{t} h(\\tau) \\; d\\tau\n",
        "\\end{equation}\n",
        "\n",
        "La anterior igualdad se puede deducir, por ejemplo, de una [interpretación gráfica de la convolución](https://en.wikipedia.org/wiki/Convolution). Como la operación inversa a la integral anterior es la derivada, esto implica que la respuesta al impulso es la derivada de la respuesta al escalón:\n",
        "\n",
        "\\begin{equation}\n",
        "h(t) = \\frac{d h_\\epsilon(t)}{dt}\n",
        "\\end{equation}\n",
        "\n",
        "Al usar este resultado junto con las propiedades de la convolución para derivadas, la señal de salida $y(t)=\\mathsf{H}\\{x(t)\\}$, en términos de la respuesta al escalón, se define como:\n",
        "\n",
        "\\begin{equation}\n",
        "y(t) = x(t) * \\frac{d h_\\epsilon(t)}{dt} = \\frac{d x(t)}{dt} * h_\\epsilon(t)\n",
        "\\end{equation}\n",
        "\n",
        "La señal de salida de un SLIT está dada por la convolución entre la derivada de la señal de entrada con la respuesta al escalón.\n",
        "\n",
        "La respuesta al escalón es una alternativa para medir las propiedades de un SLIT, ya que en la práctica no se puede realizar un impulso de Dirac. En este sentido, juega un papel importante en la teoría de [sistemas de control](https://en.wikipedia.org/wiki/Control_system)."
      ]
    },
    {
      "cell_type": "markdown",
      "metadata": {
        "nbsphinx": "hidden",
        "id": "ckBAT08HG3B3"
      },
      "source": [
        "**Copyright**\n",
        "\n",
        "The notebooks are provided as [Open Educational Resource](https://de.wikipedia.org/wiki/Open_Educational_Resources). Feel free to use the notebooks for your own educational purposes. The text is licensed under [Creative Commons Attribution 4.0](https://creativecommons.org/licenses/by/4.0/), the code of the IPython examples under the [MIT license](https://opensource.org/licenses/MIT). Please attribute the work as follows: *Lecture Notes on Signals and Systems* by Sascha Spors."
      ]
    }
  ]
}