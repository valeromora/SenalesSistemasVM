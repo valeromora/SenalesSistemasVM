{
  "nbformat": 4,
  "nbformat_minor": 0,
  "metadata": {
    "colab": {
      "provenance": [],
      "include_colab_link": true
    },
    "kernelspec": {
      "display_name": "Python 3",
      "language": "python",
      "name": "python3"
    },
    "language_info": {
      "codemirror_mode": {
        "name": "ipython",
        "version": 3
      },
      "file_extension": ".py",
      "mimetype": "text/x-python",
      "name": "python",
      "nbconvert_exporter": "python",
      "pygments_lexer": "ipython3",
      "version": "3.7.1"
    }
  },
  "cells": [
    {
      "cell_type": "markdown",
      "metadata": {
        "id": "view-in-github",
        "colab_type": "text"
      },
      "source": [
        "<a href=\"https://colab.research.google.com/github/valeromora/SenalesSistemasVM/blob/main/SenalesSistemasVM%20/4_Transformada_Laplace/6_Copia_de_Red_Electrica.ipynb\" target=\"_parent\"><img src=\"https://colab.research.google.com/assets/colab-badge.svg\" alt=\"Open In Colab\"/></a>"
      ]
    },
    {
      "cell_type": "markdown",
      "metadata": {
        "id": "_R1cDP-miBnF",
        "nbsphinx": "hidden"
      },
      "source": [
        "# Caracterizacion SLITs en el dominio del tiempo\n",
        "\n",
        "*This Jupyter notebook is part of a [collection of notebooks](../index.ipynb) in the bachelors module Signals and Systems, Communications Engineering, Universität Rostock. Please direct questions and suggestions to [Sascha.Spors@uni-rostock.de](mailto:Sascha.Spors@uni-rostock.de).*"
      ]
    },
    {
      "cell_type": "markdown",
      "metadata": {
        "id": "0wGN46Q9iBnH"
      },
      "source": [
        "## Análisis de redes eléctricas con elementos Pasivos\n",
        "\n",
        "- Las [redes eléctricas](https://en.wikipedia.org/wiki/Electrical_network) compuestos de elementos pasivos lineales, como resistencias, condensadores e inductores, pueden describirse mediante ecuaciones diferenciales ordinarias lineales (EDO) con coeficientes constantes.\n",
        "\n",
        "- Por lo tanto, visto desde la teoría de las señales y los sistemas, pueden interpretarse como un sistema lineal invariante en el tiempo (SLIT).\n",
        "\n",
        "- Las diferentes formas de caracterizar las propiedades de un SLIT introducidas anteriormente se ilustran con un circuito RLC serie:\n",
        "\n",
        "![Filtro pasa bajas analógico de segundo orden](https://github.com/amalvarezme/SenalesSistemas/blob/master/4_Transformada_Laplace/lowpass.png?raw=1)\n",
        "\n",
        "\n",
        "- Se asume que no se almacena energía en el condensador ni en el inductor para $t<0$. Además, se supone que $x(t)=0$ para $t<0$.\n",
        "\n",
        "- Por lo tanto, $y(t)=0$ y $\\frac{d y(t)}{dt}=0$ para $ t<0$. Para ilustrar, se utilizan los valores de $L=0.5$, $R=1$, $C=0.4$ como los parámetros de la red eléctrica."
      ]
    },
    {
      "cell_type": "markdown",
      "metadata": {
        "id": "wbVxceILiBnI"
      },
      "source": [
        "### Ecuación Diferencial\n",
        "\n",
        "La ecuación diferencial que describe la relación entrada/salida en el circuito se obtiene al aplicar las [leyes de Kirchhoff](https://en.wikipedia.org/wiki/Kirchhoff's_circuit_laws). Así, se obtiene la siguiente EDO\n",
        "\n",
        "\\begin{equation}\n",
        "C L \\frac{d^2 y(t)}{dt^2} + C R \\frac{d y(t)}{dt} + y(t) = x(t)\n",
        "\\end{equation}\n",
        "\n",
        "Se define la EDO con `SymPy`"
      ]
    },
    {
      "cell_type": "code",
      "metadata": {
        "colab": {
          "base_uri": "https://localhost:8080/",
          "height": 54
        },
        "id": "IjQY1BNCiBnL",
        "outputId": "534348f0-7c37-48f6-e234-cf3cc470d995"
      },
      "source": [
        "%matplotlib inline\n",
        "import sympy as sym\n",
        "sym.init_printing()\n",
        "#se definen variables simbólicas y EDO\n",
        "t, L, R, C = sym.symbols('t L R C', real=True)\n",
        "x = sym.Function('x')(t)\n",
        "y = sym.Function('y')(t)\n",
        "\n",
        "ode = sym.Eq(L*C*y.diff(t, 2) + R*C*y.diff(t) + y, x)\n",
        "ode"
      ],
      "execution_count": null,
      "outputs": [
        {
          "output_type": "execute_result",
          "data": {
            "image/png": "[encoded data removed]",
            "text/latex": "$\\displaystyle C L \\frac{d^{2}}{d t^{2}} y{\\left(t \\right)} + C R \\frac{d}{d t} y{\\left(t \\right)} + y{\\left(t \\right)} = x{\\left(t \\right)}$",
            "text/plain": [
              "      2                                   \n",
              "     d              d                     \n",
              "C⋅L⋅───(y(t)) + C⋅R⋅──(y(t)) + y(t) = x(t)\n",
              "      2             dt                    \n",
              "    dt                                    "
            ]
          },
          "metadata": {},
          "execution_count": 1
        }
      ]
    },
    {
      "cell_type": "markdown",
      "metadata": {
        "id": "tvlVcN7AiBnS"
      },
      "source": [
        "Se guardan los valores de los parámetros (R, L y C) en un diccionario, para su posterior sustitución"
      ]
    },
    {
      "cell_type": "code",
      "metadata": {
        "colab": {
          "base_uri": "https://localhost:8080/",
          "height": 58
        },
        "id": "JbcmZZ8SiBnU",
        "outputId": "777866b4-e42e-4ea7-fb5b-9faa5bc3b7cb"
      },
      "source": [
        "RLC = {R: 1, L: sym.Rational('.5'), C: sym.Rational('.4')}\n",
        "RLC"
      ],
      "execution_count": null,
      "outputs": [
        {
          "output_type": "execute_result",
          "data": {
            "image/png": "[encoded data removed]",
            "text/latex": "$\\displaystyle \\left\\{ C : \\frac{2}{5}, \\  L : \\frac{1}{2}, \\  R : 1\\right\\}$",
            "text/plain": [
              "{C: 2/5, L: 1/2, R: 1}"
            ]
          },
          "metadata": {},
          "execution_count": 2
        }
      ]
    },
    {
      "cell_type": "markdown",
      "metadata": {
        "id": "Tb8Mp_Y6iBnZ"
      },
      "source": [
        "### Respuesta al Impulso\n",
        "\n",
        "\n",
        "La red eléctrica pasiva y la EDO que describen su relación de entrada/salida se pueden interpretar como un SLIT. Por lo tanto, el sistema puede caracterizarse por su respuesta al impulso $h(t)$ que se define como la salida del sistema ante una entrada impulso de Dirac $x(t) = \\delta(t)$.\n",
        "\n",
        "Para el sistema dado, la respuesta al impulso se calcula al resolver la EDO"
      ]
    },
    {
      "cell_type": "code",
      "metadata": {
        "colab": {
          "base_uri": "https://localhost:8080/",
          "height": 99
        },
        "id": "7_IPzjLQiBna",
        "outputId": "dc2fc52e-53d9-47a3-ecf6-7269fa78315b"
      },
      "source": [
        "solution_h = sym.dsolve(ode.subs(x, sym.DiracDelta(t)).subs(y, sym.Function('h')(t)))\n",
        "solution_h"
      ],
      "execution_count": null,
      "outputs": [
        {
          "output_type": "execute_result",
          "data": {
            "image/png": "[encoded data removed]",
            "text/latex": "$\\displaystyle h{\\left(t \\right)} = C_{1} e^{\\frac{t \\left(- R - \\frac{\\sqrt{C \\left(C R^{2} - 4 L\\right)}}{C}\\right)}{2 L}} + C_{2} e^{\\frac{t \\left(- R + \\frac{\\sqrt{C \\left(C R^{2} - 4 L\\right)}}{C}\\right)}{2 L}} - \\frac{e^{\\frac{t \\left(- R - \\frac{\\sqrt{C \\left(C R^{2} - 4 L\\right)}}{C}\\right)}{2 L}} \\theta\\left(t\\right)}{\\sqrt{C \\left(C R^{2} - 4 L\\right)}} + \\frac{e^{\\frac{t \\left(- R + \\frac{\\sqrt{C \\left(C R^{2} - 4 L\\right)}}{C}\\right)}{2 L}} \\theta\\left(t\\right)}{\\sqrt{C \\left(C R^{2} - 4 L\\right)}}$",
            "text/plain": [
              "                                                                              \n",
              "             ⎛        ________________⎞         ⎛        ________________⎞    \n",
              "             ⎜       ╱   ⎛   2      ⎞ ⎟         ⎜       ╱   ⎛   2      ⎞ ⎟    \n",
              "             ⎜     ╲╱  C⋅⎝C⋅R  - 4⋅L⎠ ⎟         ⎜     ╲╱  C⋅⎝C⋅R  - 4⋅L⎠ ⎟    \n",
              "           t⋅⎜-R - ───────────────────⎟       t⋅⎜-R + ───────────────────⎟    \n",
              "             ⎝              C         ⎠         ⎝              C         ⎠    \n",
              "           ────────────────────────────       ────────────────────────────    \n",
              "                       2⋅L                                2⋅L                ℯ\n",
              "h(t) = C₁⋅ℯ                             + C₂⋅ℯ                             - ─\n",
              "                                                                              \n",
              "                                                                              \n",
              "                                                                              \n",
              "\n",
              "  ⎛        ________________⎞           ⎛        ________________⎞     \n",
              "  ⎜       ╱   ⎛   2      ⎞ ⎟           ⎜       ╱   ⎛   2      ⎞ ⎟     \n",
              "  ⎜     ╲╱  C⋅⎝C⋅R  - 4⋅L⎠ ⎟           ⎜     ╲╱  C⋅⎝C⋅R  - 4⋅L⎠ ⎟     \n",
              "t⋅⎜-R - ───────────────────⎟         t⋅⎜-R + ───────────────────⎟     \n",
              "  ⎝              C         ⎠           ⎝              C         ⎠     \n",
              "────────────────────────────         ────────────────────────────     \n",
              "            2⋅L                                  2⋅L                  \n",
              "                            ⋅θ(t)   ℯ                            ⋅θ(t)\n",
              "───────────────────────────────── + ──────────────────────────────────\n",
              "         ________________                     ________________        \n",
              "        ╱   ⎛   2      ⎞                     ╱   ⎛   2      ⎞         \n",
              "      ╲╱  C⋅⎝C⋅R  - 4⋅L⎠                   ╲╱  C⋅⎝C⋅R  - 4⋅L⎠         "
            ]
          },
          "metadata": {},
          "execution_count": 3
        }
      ]
    },
    {
      "cell_type": "markdown",
      "metadata": {
        "id": "-qC_OXU9iBnf"
      },
      "source": [
        "Las constantes de integración $C_1$ y $C_2$ deben determinarse a partir de las condiciones iniciales $y(t)=0$ y $\\frac{d y(t)}{dt}=0$ para $t<0$."
      ]
    },
    {
      "cell_type": "code",
      "metadata": {
        "colab": {
          "base_uri": "https://localhost:8080/",
          "height": 38
        },
        "id": "iSHIW-xkiBnh",
        "outputId": "89857f62-fc31-48ba-c06f-a39fe4971778"
      },
      "source": [
        "integration_constants = sym.solve( (solution_h.rhs.limit(t, 0, '-'), solution_h.rhs.diff(t).limit(t, 0, '-')), ['C1', 'C2'] )\n",
        "integration_constants"
      ],
      "execution_count": null,
      "outputs": [
        {
          "output_type": "execute_result",
          "data": {
            "image/png": "[encoded data removed]",
            "text/latex": "$\\displaystyle \\left\\{ C_{1} : 0, \\  C_{2} : 0\\right\\}$",
            "text/plain": [
              "{C₁: 0, C₂: 0}"
            ]
          },
          "metadata": {},
          "execution_count": 4
        }
      ]
    },
    {
      "cell_type": "markdown",
      "metadata": {
        "id": "i-hFzqnfiBnl"
      },
      "source": [
        "La sustitución de los valores de las constantes de integración $C_1$ y $C_2$ en el resultado anterior produce la respuesta al impulso:"
      ]
    },
    {
      "cell_type": "code",
      "metadata": {
        "colab": {
          "base_uri": "https://localhost:8080/",
          "height": 99
        },
        "id": "nj9fbDrPiBnm",
        "outputId": "32d1a748-593b-4686-ad95-50201575dc2d"
      },
      "source": [
        "h = solution_h.subs(integration_constants)\n",
        "h"
      ],
      "execution_count": null,
      "outputs": [
        {
          "output_type": "execute_result",
          "data": {
            "image/png": "[encoded data removed]",
            "text/latex": "$\\displaystyle h{\\left(t \\right)} = - \\frac{e^{\\frac{t \\left(- R - \\frac{\\sqrt{C \\left(C R^{2} - 4 L\\right)}}{C}\\right)}{2 L}} \\theta\\left(t\\right)}{\\sqrt{C \\left(C R^{2} - 4 L\\right)}} + \\frac{e^{\\frac{t \\left(- R + \\frac{\\sqrt{C \\left(C R^{2} - 4 L\\right)}}{C}\\right)}{2 L}} \\theta\\left(t\\right)}{\\sqrt{C \\left(C R^{2} - 4 L\\right)}}$",
            "text/plain": [
              "            ⎛        ________________⎞           ⎛        ________________⎞   \n",
              "            ⎜       ╱   ⎛   2      ⎞ ⎟           ⎜       ╱   ⎛   2      ⎞ ⎟   \n",
              "            ⎜     ╲╱  C⋅⎝C⋅R  - 4⋅L⎠ ⎟           ⎜     ╲╱  C⋅⎝C⋅R  - 4⋅L⎠ ⎟   \n",
              "          t⋅⎜-R - ───────────────────⎟         t⋅⎜-R + ───────────────────⎟   \n",
              "            ⎝              C         ⎠           ⎝              C         ⎠   \n",
              "          ────────────────────────────         ────────────────────────────   \n",
              "                      2⋅L                                  2⋅L                \n",
              "         ℯ                            ⋅θ(t)   ℯ                            ⋅θ(\n",
              "h(t) = - ────────────────────────────────── + ────────────────────────────────\n",
              "                   ________________                     ________________      \n",
              "                  ╱   ⎛   2      ⎞                     ╱   ⎛   2      ⎞       \n",
              "                ╲╱  C⋅⎝C⋅R  - 4⋅L⎠                   ╲╱  C⋅⎝C⋅R  - 4⋅L⎠       \n",
              "\n",
              "  \n",
              "  \n",
              "  \n",
              "  \n",
              "  \n",
              "  \n",
              "  \n",
              "t)\n",
              "──\n",
              "  \n",
              "  \n",
              "  "
            ]
          },
          "metadata": {},
          "execution_count": 5
        }
      ]
    },
    {
      "cell_type": "markdown",
      "metadata": {
        "id": "2j-SrGw-iBns"
      },
      "source": [
        "Se grafica la respuesta al impulso para los valores $R$, $L$ y $C$ definidos anteriormente en el diccionario"
      ]
    },
    {
      "cell_type": "code",
      "metadata": {
        "colab": {
          "base_uri": "https://localhost:8080/",
          "height": 297
        },
        "id": "UmUlhEd0iBnt",
        "outputId": "28e5cdb9-9e6d-482e-fe12-c0362beae9bc"
      },
      "source": [
        "sym.plot(h.rhs.subs(RLC), (t,0,10), ylabel=r'h(t)');"
      ],
      "execution_count": null,
      "outputs": [
        {
          "output_type": "display_data",
          "data": {
            "image/png": "[encoded data removed]",
            "text/plain": [
              "<Figure size 432x288 with 1 Axes>"
            ]
          },
          "metadata": {
            "needs_background": "light"
          }
        }
      ]
    },
    {
      "cell_type": "markdown",
      "metadata": {
        "id": "6_3eS4XpiBnz"
      },
      "source": [
        "### Respuesta al Escalón\n",
        "\n",
        "La respuesta al escalón se obtiene al integrar la respuesta al impulso $h(t)$. Para facilitar la ilustración, esto se realiza con los valores de los parámetros definidos anteriormente."
      ]
    },
    {
      "cell_type": "code",
      "metadata": {
        "colab": {
          "base_uri": "https://localhost:8080/",
          "height": 66
        },
        "id": "UxbXhHlIiBn0",
        "outputId": "496855da-a623-4052-8da2-551194a8085d"
      },
      "source": [
        "tau = sym.symbols('tau', real=True)\n",
        "\n",
        "he = sym.integrate(h.rhs.subs(RLC).subs(t,tau), (tau,0,t))\n",
        "he"
      ],
      "execution_count": null,
      "outputs": [
        {
          "output_type": "execute_result",
          "data": {
            "image/png": "[encoded data removed]",
            "text/latex": "$\\displaystyle \\frac{5 i \\left(\\frac{i \\left(2 + i\\right) e^{t \\left(-1 - 2 i\\right)}}{5} - \\frac{i \\left(2 + i\\right)}{5}\\right) \\theta\\left(t\\right)}{4} - \\frac{5 i \\left(\\left(- \\frac{1}{5} - \\frac{2 i}{5}\\right) e^{t \\left(-1 + 2 i\\right)} + \\frac{1}{5} + \\frac{2 i}{5}\\right) \\theta\\left(t\\right)}{4}$",
            "text/plain": [
              "    ⎛           t⋅(-1 - 2⋅ⅈ)            ⎞                                     \n",
              "    ⎜ⅈ⋅(2 + ⅈ)⋅ℯ               ⅈ⋅(2 + ⅈ)⎟            ⎛⎛  1   2⋅ⅈ⎞  t⋅(-1 + 2⋅ⅈ\n",
              "5⋅ⅈ⋅⎜─────────────────────── - ─────────⎟⋅θ(t)   5⋅ⅈ⋅⎜⎜- ─ - ───⎟⋅ℯ           \n",
              "    ⎝           5                  5    ⎠            ⎝⎝  5    5 ⎠             \n",
              "────────────────────────────────────────────── - ─────────────────────────────\n",
              "                      4                                                4      \n",
              "\n",
              "                 \n",
              ")   1   2⋅ⅈ⎞     \n",
              "  + ─ + ───⎟⋅θ(t)\n",
              "    5    5 ⎠     \n",
              "─────────────────\n",
              "                 "
            ]
          },
          "metadata": {},
          "execution_count": 7
        }
      ]
    },
    {
      "cell_type": "markdown",
      "metadata": {
        "id": "nMkcyEogiBn4"
      },
      "source": [
        "Ahora, se grafica la respuesta al escalón"
      ]
    },
    {
      "cell_type": "code",
      "metadata": {
        "colab": {
          "base_uri": "https://localhost:8080/",
          "height": 297
        },
        "id": "fJiqTE8KiBn5",
        "outputId": "9277a6fa-534d-463e-f14c-763ec00e1950"
      },
      "source": [
        "sym.plot(he, (t,0,10), ylabel=r'$h_\\epsilon(t)$');"
      ],
      "execution_count": null,
      "outputs": [
        {
          "output_type": "display_data",
          "data": {
            "image/png": "[encoded data removed]",
            "text/plain": [
              "<Figure size 432x288 with 1 Axes>"
            ]
          },
          "metadata": {
            "needs_background": "light"
          }
        }
      ]
    },
    {
      "cell_type": "markdown",
      "metadata": {
        "id": "sfCfC-kciBn-"
      },
      "source": [
        "### Función de Transferencia\n",
        "\n",
        "Para una señal de entrada exponencial $x(t)=e^{st}$, la función de transferencia $H(s)$ representa el peso de la señal exponencial de salida $y(t)=H(s)\\cdot e^{st}$.\n",
        "\n",
        "La función de transferencia se obtiene introduciendo $x(t)$ y $y(t)$ en la EDO y resolviendo para $H(s)$:"
      ]
    },
    {
      "cell_type": "code",
      "metadata": {
        "colab": {
          "base_uri": "https://localhost:8080/",
          "height": 52
        },
        "id": "aouKQt-eiBn_",
        "outputId": "48ed24cd-6aec-4a9c-dbb3-bc2fd295422f"
      },
      "source": [
        "s = sym.symbols('s')\n",
        "H = sym.Function('H')(s)\n",
        "\n",
        "H, = sym.solve(ode.subs(x, sym.exp(s*t)).subs(y, H*sym.exp(s*t)).doit(), H)\n",
        "H"
      ],
      "execution_count": null,
      "outputs": [
        {
          "output_type": "execute_result",
          "data": {
            "image/png": "[encoded data removed]",
            "text/latex": "$\\displaystyle \\frac{1}{C L s^{2} + C R s + 1}$",
            "text/plain": [
              "        1         \n",
              "──────────────────\n",
              "     2            \n",
              "C⋅L⋅s  + C⋅R⋅s + 1"
            ]
          },
          "metadata": {},
          "execution_count": 9
        }
      ]
    },
    {
      "cell_type": "markdown",
      "metadata": {
        "id": "jLWzQEXCiBoD"
      },
      "source": [
        "Las características de transferencia de un SLIT para señales exponenciales armónicas $e^{j \\omega t}=\\cos(\\omega t) + j\\sin (\\omega t)$ son de especial interés en el análisis de circuitos eléctricos.\n",
        "\n",
        "Se puede obtener de $H(s)$ sustituyendo la frecuencia compleja $s$ por $s=j\\omega$.\n",
        "\n",
        "La función de transferencia resultante $H(j\\omega)$ proporciona la atenuación y la fase que el sistema agrega a una señal de entrada armónica (comunmente conocido como [diagrama de Bode](https://en.wikipedia.org/wiki/Bode_plot))."
      ]
    },
    {
      "cell_type": "code",
      "metadata": {
        "colab": {
          "base_uri": "https://localhost:8080/",
          "height": 52
        },
        "id": "p7vsB0OyiBoE",
        "outputId": "18dde713-2893-4d57-d57e-1516d724d762"
      },
      "source": [
        "#se sustituye s por jm\n",
        "w = sym.symbols('omega', real=True)\n",
        "\n",
        "Hjw = H.subs(s, sym.I * w)\n",
        "Hjw"
      ],
      "execution_count": null,
      "outputs": [
        {
          "output_type": "execute_result",
          "data": {
            "image/png": "[encoded data removed]",
            "text/latex": "$\\displaystyle \\frac{1}{- C L \\omega^{2} + i C R \\omega + 1}$",
            "text/plain": [
              "          1           \n",
              "──────────────────────\n",
              "       2              \n",
              "- C⋅L⋅ω  + ⅈ⋅C⋅R⋅ω + 1"
            ]
          },
          "metadata": {},
          "execution_count": 10
        }
      ]
    },
    {
      "cell_type": "markdown",
      "metadata": {
        "id": "YC5hINwDiBoI"
      },
      "source": [
        "Se grafica la magnitud de la función de transferencia $|H(j \\omega)|$ para los valores de $R$, $L$ y $C$ definidos anteriormente en el diccionario."
      ]
    },
    {
      "cell_type": "code",
      "metadata": {
        "colab": {
          "base_uri": "https://localhost:8080/",
          "height": 297
        },
        "id": "LusmV65XiBoJ",
        "outputId": "2d74c564-29c1-4ea2-f5e2-4b351073e07b"
      },
      "source": [
        "sym.plot(abs(Hjw.subs(RLC)), (w, -10, 10), ylabel=r'$|H(j \\omega)|$', xlabel=r'$\\omega$');"
      ],
      "execution_count": null,
      "outputs": [
        {
          "output_type": "display_data",
          "data": {
            "image/png": "[encoded data removed]",
            "text/plain": [
              "<Figure size 432x288 with 1 Axes>"
            ]
          },
          "metadata": {
            "needs_background": "light"
          }
        }
      ]
    },
    {
      "cell_type": "markdown",
      "metadata": {
        "id": "whfV3sHgiBoO"
      },
      "source": [
        "Ahora, resulta obvio que las frecuencias bajas pasan a través del sistema y que las frecuencias altas se atenúan. Esto motiva el término 'pasa bajas' para tales sistemas.\n",
        "\n",
        "Como alternativa a la solución de la EDO, la función de transferencia $H(s)$ se calcula a partir de la respuesta de impulso y se grafica para los valores especificados anteriormente de los parámetros."
      ]
    },
    {
      "cell_type": "code",
      "metadata": {
        "colab": {
          "base_uri": "https://localhost:8080/",
          "height": 52
        },
        "id": "W3Ib6my5iBoP",
        "outputId": "6e67b792-23c9-45fb-c26d-98d3c9608c2e"
      },
      "source": [
        "H2 = sym.integrate(h.rhs.subs(RLC)*sym.exp(-s*t), (t,0,sym.oo), conds='none')\n",
        "H2.simplify()"
      ],
      "execution_count": null,
      "outputs": [
        {
          "output_type": "execute_result",
          "data": {
            "image/png": "[encoded data removed]",
            "text/latex": "$\\displaystyle \\frac{5}{s^{2} + 2 s + 5}$",
            "text/plain": [
              "     5      \n",
              "────────────\n",
              " 2          \n",
              "s  + 2⋅s + 5"
            ]
          },
          "metadata": {},
          "execution_count": 12
        }
      ]
    },
    {
      "cell_type": "code",
      "metadata": {
        "colab": {
          "base_uri": "https://localhost:8080/",
          "height": 297
        },
        "id": "x-XUFJpkiBoV",
        "outputId": "946517e9-24d3-4b63-f405-1df9631941c1"
      },
      "source": [
        "sym.plot(abs(H2.subs(s, sym.I*w)), (w, -10, 10), ylabel=r'$|H(j \\omega)|$', xlabel=r'$\\omega$');"
      ],
      "execution_count": null,
      "outputs": [
        {
          "output_type": "display_data",
          "data": {
            "image/png": "[encoded data removed]",
            "text/plain": [
              "<Figure size 432x288 with 1 Axes>"
            ]
          },
          "metadata": {
            "needs_background": "light"
          }
        }
      ]
    },
    {
      "cell_type": "markdown",
      "metadata": {
        "id": "0GfHF-txiBoa"
      },
      "source": [
        "La fase de la función de transferencia $\\varphi (j\\omega)=\\arg \\{H(j\\omega)\\}$ proporciona información sobre la fase agregada a una señal armónica cuando pasa a través del sistema. Se calcula y grafica para los valores específicos de los elementos dados anteriormente."
      ]
    },
    {
      "cell_type": "code",
      "metadata": {
        "colab": {
          "base_uri": "https://localhost:8080/",
          "height": 297
        },
        "id": "dOSSmV-XiBob",
        "outputId": "64c74492-a19c-49ed-d105-702402bbd850"
      },
      "source": [
        "phi = sym.arg(Hjw)\n",
        "sym.plot(phi.subs(RLC), (w, -10, 10), ylabel=r'$\\varphi(j \\omega)$', xlabel=r'$\\omega$');"
      ],
      "execution_count": null,
      "outputs": [
        {
          "output_type": "display_data",
          "data": {
            "image/png": "[encoded data removed]",
            "text/plain": [
              "<Figure size 432x288 with 1 Axes>"
            ]
          },
          "metadata": {
            "needs_background": "light"
          }
        }
      ]
    },
    {
      "cell_type": "markdown",
      "metadata": {
        "id": "R4ZVuSqLiBog",
        "nbsphinx": "hidden"
      },
      "source": [
        "**Copyright**\n",
        "\n",
        "The notebooks are provided as [Open Educational Resource](https://de.wikipedia.org/wiki/Open_Educational_Resources). Feel free to use the notebooks for your own educational purposes. The text is licensed under [Creative Commons Attribution 4.0](https://creativecommons.org/licenses/by/4.0/), the code of the IPython examples under the [MIT license](https://opensource.org/licenses/MIT). Please attribute the work as follows: *Lecture Notes on Signals and Systems* by Sascha Spors."
      ]
    },
    {
      "cell_type": "code",
      "metadata": {
        "id": "DKk9yZidJQ7v"
      },
      "source": [],
      "execution_count": null,
      "outputs": []
    }
  ]
}